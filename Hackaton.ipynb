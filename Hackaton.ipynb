{
  "nbformat": 4,
  "nbformat_minor": 0,
  "metadata": {
    "colab": {
      "provenance": []
    },
    "kernelspec": {
      "name": "python3",
      "display_name": "Python 3"
    },
    "language_info": {
      "name": "python"
    }
  },
  "cells": [
    {
      "cell_type": "markdown",
      "source": [
        "# Import Libraries"
      ],
      "metadata": {
        "id": "G5T77sV6mT2T"
      }
    },
    {
      "cell_type": "code",
      "source": [
        "import os\n",
        "import pandas as pd\n",
        "import numpy as np\n",
        "\n",
        "from datetime import datetime"
      ],
      "metadata": {
        "id": "IbGMgyjTmRvC"
      },
      "execution_count": null,
      "outputs": []
    },
    {
      "cell_type": "code",
      "execution_count": null,
      "metadata": {
        "id": "njmjkrQLWwZn",
        "colab": {
          "base_uri": "https://localhost:8080/"
        },
        "outputId": "dbb0a88f-b5fd-4d73-b0f2-e663b89fa2c0"
      },
      "outputs": [
        {
          "output_type": "stream",
          "name": "stdout",
          "text": [
            "Drive already mounted at /content/drive; to attempt to forcibly remount, call drive.mount(\"/content/drive\", force_remount=True).\n"
          ]
        }
      ],
      "source": [
        "from google.colab import drive\n",
        "drive.mount('/content/drive')"
      ]
    },
    {
      "cell_type": "markdown",
      "source": [
        "# Import data"
      ],
      "metadata": {
        "id": "CBrJuEAwmdun"
      }
    },
    {
      "cell_type": "code",
      "source": [
        "path = '/content/drive/MyDrive/Hackaton2023/train_dataset_Росатом/'\n",
        "directory =  '/content/drive/MyDrive/Hackaton2023/train_dataset_Росатом/Anonimized/'\n",
        "\n",
        "anonimized = pd.read_csv(path + 'anonimized.csv')"
      ],
      "metadata": {
        "id": "y6nSZd9bk6Nq"
      },
      "execution_count": null,
      "outputs": []
    },
    {
      "cell_type": "code",
      "source": [
        "anonimized.shape"
      ],
      "metadata": {
        "colab": {
          "base_uri": "https://localhost:8080/"
        },
        "id": "RN3ZERTi-GW-",
        "outputId": "2ac547ff-0850-44a2-83e3-290b1df1b8fb"
      },
      "execution_count": null,
      "outputs": [
        {
          "output_type": "execute_result",
          "data": {
            "text/plain": [
              "(713, 15)"
            ]
          },
          "metadata": {},
          "execution_count": 120
        }
      ]
    },
    {
      "cell_type": "markdown",
      "source": [
        "# Create result table"
      ],
      "metadata": {
        "id": "SRTFhUSYC63L"
      }
    },
    {
      "cell_type": "code",
      "source": [
        "col = ['ФИО', 'Название команды', 'Количество участников', 'Компетенция', 'Баллы, %', 'Баллы, ед.', 'Баллы по ключевым навыкам', 'Вид соревнования']\n",
        "\n",
        "result = pd.DataFrame(columns=col)\n",
        "\n",
        "\n",
        "def split_names(text):\n",
        "    names = text.split(\";\")\n",
        "    names = [name.strip() for name in names]\n",
        "    return names\n",
        "\n",
        "\n",
        "for filename in os.listdir(directory):\n",
        "  if filename.endswith(\".csv\"):\n",
        "    a = pd.read_csv(directory+filename)( . sys Y \n",
        "    \n",
        "    if 'ФИО' in a.columns.to_list():\n",
        "        for i in range(a.index.to_list()[-1]+1):\n",
        "            row = a.iloc[i]\n",
        "            fio = row['ФИО']\n",
        "            komp = row['Компетенция']\n",
        "            if komp == 'Квантовые технологии': typ = 2\n",
        "            else: typ = 3\n",
        "            points = row['Баллы, ед.']\n",
        "            points2 = row['Баллы, %']\n",
        "            try:\n",
        "              points3 = row['Баллы по ключевым навыкам']\n",
        "            except:\n",
        "              points3 = np.NaN\n",
        "            \n",
        "            new_row = {'ФИО': fio, 'Название команды': fio, 'Количество участников': 1,'Компетенция': komp,'Баллы, ед.': points, 'Баллы по ключевым навыкам': points3, 'Баллы, %': points2, 'Вид соревнования': typ}\n",
        "            result = pd.concat([result, pd.DataFrame([new_row])], ignore_index=True)\n",
        "\n",
        "    elif 'ФИО участников' in a.columns.to_list():\n",
        "        \n",
        "        for i in range(a.index.to_list()[-1]+1):\n",
        "            \n",
        "            row = a.iloc[i]\n",
        "            team = split_names(row['ФИО участников'])\n",
        "            memb_count = len(team)\n",
        "            team_name = row['Название команды']\n",
        "            komp = row['Компетенция']\n",
        "            typ = 1\n",
        "            points = row['Баллы, ед.']\n",
        "            points2 = row['Баллы, %']\n",
        "            points3 = row['Баллы по ключевым навыкам']\n",
        "            \n",
        "            for name in team:\n",
        "              if komp == 'Инженерное проектирование':\n",
        "                points = row['Unnamed: 9']\n",
        "\n",
        "              new_row = {'ФИО': name, 'Название команды': team_name, 'Количество участников': memb_count,'Компетенция': komp,'Баллы, ед.': points, 'Баллы по ключевым навыкам': points3, 'Баллы, %': points2, 'Вид соревнования': typ}\n",
        "              result = pd.concat([result, pd.DataFrame([new_row])], ignore_index=True)\n",
        "\n",
        "    else:\n",
        "        print(filename, \"Ошибка\")\n",
        "\n",
        "\n",
        "result['Баллы, %'] = result['Баллы, %'].fillna(result['Баллы, ед.'])"
      ],
      "metadata": {
        "id": "Jzhc7FzsvPX5"
      },
      "execution_count": null,
      "outputs": []
    },
    {
      "cell_type": "code",
      "source": [
        "result = result.drop(['Баллы, ед.', 'Баллы по ключевым навыкам'], axis=1)\n",
        "\n",
        "result = result.rename(columns={'Баллы, %': 'Баллы'})\n",
        "\n",
        "result = result.drop(result[result['ФИО'] == 'XXX'].index)"
      ],
      "metadata": {
        "id": "Mhv-0vVYxTCn"
      },
      "execution_count": null,
      "outputs": []
    },
    {
      "cell_type": "code",
      "source": [
        "result"
      ],
      "metadata": {
        "colab": {
          "base_uri": "https://localhost:8080/",
          "height": 424
        },
        "id": "-1VkvgGlwCSQ",
        "outputId": "57539322-0629-4e32-e084-e8c7fbab0e59"
      },
      "execution_count": null,
      "outputs": [
        {
          "output_type": "execute_result",
          "data": {
            "text/plain": [
              "         ФИО          Название команды Количество участников  \\\n",
              "0    ФИО_623            AKKUYU NÜKLEER                     2   \n",
              "1    ФИО_703            AKKUYU NÜKLEER                     2   \n",
              "2    ФИО_164  АО \"АЭС\" АО \"Консист-ОС\"                     2   \n",
              "3    ФИО_310  АО \"АЭС\" АО \"Консист-ОС\"                     2   \n",
              "4    ФИО_113           АО \"КОНСИСТ-ОС\"                     2   \n",
              "..       ...                       ...                   ...   \n",
              "707  ФИО_709            ФГУП \"ПСЗ\" - 1                     2   \n",
              "708  ФИО_382            ФГУП \"ПСЗ\" - 2                     2   \n",
              "709  ФИО_520            ФГУП \"ПСЗ\" - 2                     2   \n",
              "710  ФИО_202     Экологические решения                     2   \n",
              "711  ФИО_298     Экологические решения                     2   \n",
              "\n",
              "                               Компетенция  Баллы Вид соревнования  \n",
              "0    Сетевое и системное администрирование  22,95                1  \n",
              "1    Сетевое и системное администрирование  22,95                1  \n",
              "2    Сетевое и системное администрирование  61,26                1  \n",
              "3    Сетевое и системное администрирование  61,26                1  \n",
              "4    Сетевое и системное администрирование  59,78                1  \n",
              "..                                     ...    ...              ...  \n",
              "707                   Управление качеством  53,65                1  \n",
              "708                   Управление качеством   44,8                1  \n",
              "709                   Управление качеством   44,8                1  \n",
              "710                   Управление качеством  33,62                1  \n",
              "711                   Управление качеством  33,62                1  \n",
              "\n",
              "[710 rows x 6 columns]"
            ],
            "text/html": [
              "\n",
              "  <div id=\"df-d38eb18a-fb14-4165-9455-20988384a44d\">\n",
              "    <div class=\"colab-df-container\">\n",
              "      <div>\n",
              "<style scoped>\n",
              "    .dataframe tbody tr th:only-of-type {\n",
              "        vertical-align: middle;\n",
              "    }\n",
              "\n",
              "    .dataframe tbody tr th {\n",
              "        vertical-align: top;\n",
              "    }\n",
              "\n",
              "    .dataframe thead th {\n",
              "        text-align: right;\n",
              "    }\n",
              "</style>\n",
              "<table border=\"1\" class=\"dataframe\">\n",
              "  <thead>\n",
              "    <tr style=\"text-align: right;\">\n",
              "      <th></th>\n",
              "      <th>ФИО</th>\n",
              "      <th>Название команды</th>\n",
              "      <th>Количество участников</th>\n",
              "      <th>Компетенция</th>\n",
              "      <th>Баллы</th>\n",
              "      <th>Вид соревнования</th>\n",
              "    </tr>\n",
              "  </thead>\n",
              "  <tbody>\n",
              "    <tr>\n",
              "      <th>0</th>\n",
              "      <td>ФИО_623</td>\n",
              "      <td>AKKUYU NÜKLEER</td>\n",
              "      <td>2</td>\n",
              "      <td>Сетевое и системное администрирование</td>\n",
              "      <td>22,95</td>\n",
              "      <td>1</td>\n",
              "    </tr>\n",
              "    <tr>\n",
              "      <th>1</th>\n",
              "      <td>ФИО_703</td>\n",
              "      <td>AKKUYU NÜKLEER</td>\n",
              "      <td>2</td>\n",
              "      <td>Сетевое и системное администрирование</td>\n",
              "      <td>22,95</td>\n",
              "      <td>1</td>\n",
              "    </tr>\n",
              "    <tr>\n",
              "      <th>2</th>\n",
              "      <td>ФИО_164</td>\n",
              "      <td>АО \"АЭС\" АО \"Консист-ОС\"</td>\n",
              "      <td>2</td>\n",
              "      <td>Сетевое и системное администрирование</td>\n",
              "      <td>61,26</td>\n",
              "      <td>1</td>\n",
              "    </tr>\n",
              "    <tr>\n",
              "      <th>3</th>\n",
              "      <td>ФИО_310</td>\n",
              "      <td>АО \"АЭС\" АО \"Консист-ОС\"</td>\n",
              "      <td>2</td>\n",
              "      <td>Сетевое и системное администрирование</td>\n",
              "      <td>61,26</td>\n",
              "      <td>1</td>\n",
              "    </tr>\n",
              "    <tr>\n",
              "      <th>4</th>\n",
              "      <td>ФИО_113</td>\n",
              "      <td>АО \"КОНСИСТ-ОС\"</td>\n",
              "      <td>2</td>\n",
              "      <td>Сетевое и системное администрирование</td>\n",
              "      <td>59,78</td>\n",
              "      <td>1</td>\n",
              "    </tr>\n",
              "    <tr>\n",
              "      <th>...</th>\n",
              "      <td>...</td>\n",
              "      <td>...</td>\n",
              "      <td>...</td>\n",
              "      <td>...</td>\n",
              "      <td>...</td>\n",
              "      <td>...</td>\n",
              "    </tr>\n",
              "    <tr>\n",
              "      <th>707</th>\n",
              "      <td>ФИО_709</td>\n",
              "      <td>ФГУП \"ПСЗ\" - 1</td>\n",
              "      <td>2</td>\n",
              "      <td>Управление качеством</td>\n",
              "      <td>53,65</td>\n",
              "      <td>1</td>\n",
              "    </tr>\n",
              "    <tr>\n",
              "      <th>708</th>\n",
              "      <td>ФИО_382</td>\n",
              "      <td>ФГУП \"ПСЗ\" - 2</td>\n",
              "      <td>2</td>\n",
              "      <td>Управление качеством</td>\n",
              "      <td>44,8</td>\n",
              "      <td>1</td>\n",
              "    </tr>\n",
              "    <tr>\n",
              "      <th>709</th>\n",
              "      <td>ФИО_520</td>\n",
              "      <td>ФГУП \"ПСЗ\" - 2</td>\n",
              "      <td>2</td>\n",
              "      <td>Управление качеством</td>\n",
              "      <td>44,8</td>\n",
              "      <td>1</td>\n",
              "    </tr>\n",
              "    <tr>\n",
              "      <th>710</th>\n",
              "      <td>ФИО_202</td>\n",
              "      <td>Экологические решения</td>\n",
              "      <td>2</td>\n",
              "      <td>Управление качеством</td>\n",
              "      <td>33,62</td>\n",
              "      <td>1</td>\n",
              "    </tr>\n",
              "    <tr>\n",
              "      <th>711</th>\n",
              "      <td>ФИО_298</td>\n",
              "      <td>Экологические решения</td>\n",
              "      <td>2</td>\n",
              "      <td>Управление качеством</td>\n",
              "      <td>33,62</td>\n",
              "      <td>1</td>\n",
              "    </tr>\n",
              "  </tbody>\n",
              "</table>\n",
              "<p>710 rows × 6 columns</p>\n",
              "</div>\n",
              "      <button class=\"colab-df-convert\" onclick=\"convertToInteractive('df-d38eb18a-fb14-4165-9455-20988384a44d')\"\n",
              "              title=\"Convert this dataframe to an interactive table.\"\n",
              "              style=\"display:none;\">\n",
              "        \n",
              "  <svg xmlns=\"http://www.w3.org/2000/svg\" height=\"24px\"viewBox=\"0 0 24 24\"\n",
              "       width=\"24px\">\n",
              "    <path d=\"M0 0h24v24H0V0z\" fill=\"none\"/>\n",
              "    <path d=\"M18.56 5.44l.94 2.06.94-2.06 2.06-.94-2.06-.94-.94-2.06-.94 2.06-2.06.94zm-11 1L8.5 8.5l.94-2.06 2.06-.94-2.06-.94L8.5 2.5l-.94 2.06-2.06.94zm10 10l.94 2.06.94-2.06 2.06-.94-2.06-.94-.94-2.06-.94 2.06-2.06.94z\"/><path d=\"M17.41 7.96l-1.37-1.37c-.4-.4-.92-.59-1.43-.59-.52 0-1.04.2-1.43.59L10.3 9.45l-7.72 7.72c-.78.78-.78 2.05 0 2.83L4 21.41c.39.39.9.59 1.41.59.51 0 1.02-.2 1.41-.59l7.78-7.78 2.81-2.81c.8-.78.8-2.07 0-2.86zM5.41 20L4 18.59l7.72-7.72 1.47 1.35L5.41 20z\"/>\n",
              "  </svg>\n",
              "      </button>\n",
              "      \n",
              "  <style>\n",
              "    .colab-df-container {\n",
              "      display:flex;\n",
              "      flex-wrap:wrap;\n",
              "      gap: 12px;\n",
              "    }\n",
              "\n",
              "    .colab-df-convert {\n",
              "      background-color: #E8F0FE;\n",
              "      border: none;\n",
              "      border-radius: 50%;\n",
              "      cursor: pointer;\n",
              "      display: none;\n",
              "      fill: #1967D2;\n",
              "      height: 32px;\n",
              "      padding: 0 0 0 0;\n",
              "      width: 32px;\n",
              "    }\n",
              "\n",
              "    .colab-df-convert:hover {\n",
              "      background-color: #E2EBFA;\n",
              "      box-shadow: 0px 1px 2px rgba(60, 64, 67, 0.3), 0px 1px 3px 1px rgba(60, 64, 67, 0.15);\n",
              "      fill: #174EA6;\n",
              "    }\n",
              "\n",
              "    [theme=dark] .colab-df-convert {\n",
              "      background-color: #3B4455;\n",
              "      fill: #D2E3FC;\n",
              "    }\n",
              "\n",
              "    [theme=dark] .colab-df-convert:hover {\n",
              "      background-color: #434B5C;\n",
              "      box-shadow: 0px 1px 3px 1px rgba(0, 0, 0, 0.15);\n",
              "      filter: drop-shadow(0px 1px 2px rgba(0, 0, 0, 0.3));\n",
              "      fill: #FFFFFF;\n",
              "    }\n",
              "  </style>\n",
              "\n",
              "      <script>\n",
              "        const buttonEl =\n",
              "          document.querySelector('#df-d38eb18a-fb14-4165-9455-20988384a44d button.colab-df-convert');\n",
              "        buttonEl.style.display =\n",
              "          google.colab.kernel.accessAllowed ? 'block' : 'none';\n",
              "\n",
              "        async function convertToInteractive(key) {\n",
              "          const element = document.querySelector('#df-d38eb18a-fb14-4165-9455-20988384a44d');\n",
              "          const dataTable =\n",
              "            await google.colab.kernel.invokeFunction('convertToInteractive',\n",
              "                                                     [key], {});\n",
              "          if (!dataTable) return;\n",
              "\n",
              "          const docLinkHtml = 'Like what you see? Visit the ' +\n",
              "            '<a target=\"_blank\" href=https://colab.research.google.com/notebooks/data_table.ipynb>data table notebook</a>'\n",
              "            + ' to learn more about interactive tables.';\n",
              "          element.innerHTML = '';\n",
              "          dataTable['output_type'] = 'display_data';\n",
              "          await google.colab.output.renderOutput(dataTable, element);\n",
              "          const docLink = document.createElement('div');\n",
              "          docLink.innerHTML = docLinkHtml;\n",
              "          element.appendChild(docLink);\n",
              "        }\n",
              "      </script>\n",
              "    </div>\n",
              "  </div>\n",
              "  "
            ]
          },
          "metadata": {},
          "execution_count": 123
        }
      ]
    },
    {
      "cell_type": "code",
      "source": [
        "result.to_csv('result.csv', index=False)"
      ],
      "metadata": {
        "id": "vOD_oVzvHFjU"
      },
      "execution_count": null,
      "outputs": []
    },
    {
      "cell_type": "markdown",
      "source": [
        "# Data Engineering"
      ],
      "metadata": {
        "id": "a518-bti0GID"
      }
    },
    {
      "cell_type": "code",
      "source": [
        "data = pd.merge(result, anonimized, on='ФИО')"
      ],
      "metadata": {
        "id": "BE4UNeLaENNh"
      },
      "execution_count": null,
      "outputs": []
    },
    {
      "cell_type": "code",
      "source": [
        "data.shape"
      ],
      "metadata": {
        "colab": {
          "base_uri": "https://localhost:8080/"
        },
        "id": "Cj8VSWgC-Bp9",
        "outputId": "ecf0150b-6e05-45b7-e94d-be6e6e700cb9"
      },
      "execution_count": null,
      "outputs": [
        {
          "output_type": "execute_result",
          "data": {
            "text/plain": [
              "(710, 20)"
            ]
          },
          "metadata": {},
          "execution_count": 127
        }
      ]
    },
    {
      "cell_type": "code",
      "source": [
        "data = data.drop('Список компетенций', axis=1)\n",
        "data = data[data['Роль в мероприятии'] == 'Участник мероприятия']\n",
        "data = data.rename(columns={'Год оканчания': 'Год окончания'})"
      ],
      "metadata": {
        "id": "fh8YWfLX_FM4"
      },
      "execution_count": null,
      "outputs": []
    },
    {
      "cell_type": "code",
      "source": [],
      "metadata": {
        "id": "x33NENe1U5nS"
      },
      "execution_count": null,
      "outputs": []
    },
    {
      "cell_type": "code",
      "source": [
        "data.isna().sum()"
      ],
      "metadata": {
        "colab": {
          "base_uri": "https://localhost:8080/"
        },
        "id": "PnfFscUWAt3H",
        "outputId": "c3904413-0ee0-4120-b49e-3bc8e9ae0a37"
      },
      "execution_count": null,
      "outputs": [
        {
          "output_type": "execute_result",
          "data": {
            "text/plain": [
              "ФИО                                         0\n",
              "Название команды                            0\n",
              "Количество участников                       0\n",
              "Компетенция                                 0\n",
              "Баллы                                       0\n",
              "Вид соревнования                            0\n",
              "Пол                                         0\n",
              "Роль в мероприятии                          0\n",
              "Должность                                  72\n",
              "Категория                                 484\n",
              "Начало трудового стажа                    141\n",
              "Место работы                                4\n",
              "Профессия                                 515\n",
              "Дата рождения                             192\n",
              "Начало трудовой деятельности в РОСАТОМ    308\n",
              "Образование                               552\n",
              "Место образования                         552\n",
              "Год окончания                             552\n",
              "Специальность                             552\n",
              "dtype: int64"
            ]
          },
          "metadata": {},
          "execution_count": 129
        }
      ]
    },
    {
      "cell_type": "code",
      "source": [
        "def calculate_age(birth_date):\n",
        "    if pd.isnull(birth_date):  # Если значение ячейки пустое, оставляем его без изменений\n",
        "        return birth_date\n",
        "    \n",
        "    current_date = datetime.now().date()\n",
        "    \n",
        "    # Поддерживаемые форматы даты\n",
        "    date_formats = [\n",
        "        \"%d.%m.%Y\",\n",
        "        \"%d.%m.%y\",\n",
        "        \"%Y-%m-%d\",\n",
        "        \"-%m-%d\",\n",
        "        \"%m-%d-%Y\"\n",
        "    ]\n",
        "    \n",
        "    for date_format in date_formats:\n",
        "        try:\n",
        "            birth_date = datetime.strptime(birth_date, date_format).date()\n",
        "            break  # Если формат успешно найден, выходим из цикла\n",
        "        except ValueError:\n",
        "            pass\n",
        "    \n",
        "    # Если формат даты не найден, возвращаем исходное значение\n",
        "    if isinstance(birth_date, str):\n",
        "        return birth_date\n",
        "    \n",
        "    age = current_date.year - birth_date.year\n",
        "    # Проверяем, был ли уже день рождения в текущем году\n",
        "    if (birth_date.month, birth_date.day) > (current_date.month, current_date.day):\n",
        "        age -= 1\n",
        "    \n",
        "    return age\n",
        "\n",
        "data['Дата рождения'] = data['Дата рождения'].apply(calculate_age)"
      ],
      "metadata": {
        "id": "V9YWDrwUuULb"
      },
      "execution_count": null,
      "outputs": []
    },
    {
      "cell_type": "code",
      "source": [
        "data.to_csv('data.csv', index=False)"
      ],
      "metadata": {
        "id": "73l3aoJgEQg8"
      },
      "execution_count": null,
      "outputs": []
    },
    {
      "cell_type": "code",
      "source": [
        "data.head()"
      ],
      "metadata": {
        "colab": {
          "base_uri": "https://localhost:8080/",
          "height": 531
        },
        "id": "SYcyyBOF9etd",
        "outputId": "d7061068-3d18-4f8e-bdb9-4c1f2e85a35f"
      },
      "execution_count": null,
      "outputs": [
        {
          "output_type": "execute_result",
          "data": {
            "text/plain": [
              "       ФИО          Название команды Количество участников  \\\n",
              "0  ФИО_623            AKKUYU NÜKLEER                     2   \n",
              "1  ФИО_703            AKKUYU NÜKLEER                     2   \n",
              "2  ФИО_164  АО \"АЭС\" АО \"Консист-ОС\"                     2   \n",
              "3  ФИО_310  АО \"АЭС\" АО \"Консист-ОС\"                     2   \n",
              "4  ФИО_113           АО \"КОНСИСТ-ОС\"                     2   \n",
              "\n",
              "                             Компетенция  Баллы Вид соревнования  Пол  \\\n",
              "0  Сетевое и системное администрирование  22,95                1    0   \n",
              "1  Сетевое и системное администрирование  22,95                1    0   \n",
              "2  Сетевое и системное администрирование  61,26                1    0   \n",
              "3  Сетевое и системное администрирование  61,26                1    1   \n",
              "4  Сетевое и системное администрирование  59,78                1    0   \n",
              "\n",
              "     Роль в мероприятии                         Должность  \\\n",
              "0  Участник мероприятия                 Начальник участка   \n",
              "1  Участник мероприятия  Эксперт по технической поддержке   \n",
              "2  Участник мероприятия                   главный эксперт   \n",
              "3  Участник мероприятия             инженер-системотехник   \n",
              "4  Участник мероприятия                   Главный эксперт   \n",
              "\n",
              "                            Категория Начало трудового стажа  \\\n",
              "0                                 NaN                03.2013   \n",
              "1                                 NaN                07.2007   \n",
              "2                                 NaN             2005-01-01   \n",
              "3                                 NaN                 май.07   \n",
              "4  Специалист (рабочие специальности)             2007-02-01   \n",
              "\n",
              "                        Место работы                              Профессия  \\\n",
              "0      AKKUYU NÜKLEER ANONİM ŞİRKETİ                                    NaN   \n",
              "1                   АО АККУЮ НУКЛЕАР                                    NaN   \n",
              "2                АО \"АтомЭнергоСбыт\"                                    NaN   \n",
              "3  Филиал АО \"КОНСИСТ-ОС\" \"Кольский\"                                    NaN   \n",
              "4                    АО \"Консист-ОС\"  Сетевое и системное администрирование   \n",
              "\n",
              "  Дата рождения Начало трудовой деятельности в РОСАТОМ Образование  \\\n",
              "0           NaN                                    NaN         NaN   \n",
              "1           NaN                                    NaN         NaN   \n",
              "2            36                             2021-07-18         NaN   \n",
              "3            36                                    NaN         NaN   \n",
              "4            36                             2007-02-01         NaN   \n",
              "\n",
              "  Место образования Год окончания Специальность  \n",
              "0               NaN           NaN           NaN  \n",
              "1               NaN           NaN           NaN  \n",
              "2               NaN           NaN           NaN  \n",
              "3               NaN           NaN           NaN  \n",
              "4               NaN           NaN           NaN  "
            ],
            "text/html": [
              "\n",
              "  <div id=\"df-b73e1db4-dc48-49a3-9025-5538d8eccd43\">\n",
              "    <div class=\"colab-df-container\">\n",
              "      <div>\n",
              "<style scoped>\n",
              "    .dataframe tbody tr th:only-of-type {\n",
              "        vertical-align: middle;\n",
              "    }\n",
              "\n",
              "    .dataframe tbody tr th {\n",
              "        vertical-align: top;\n",
              "    }\n",
              "\n",
              "    .dataframe thead th {\n",
              "        text-align: right;\n",
              "    }\n",
              "</style>\n",
              "<table border=\"1\" class=\"dataframe\">\n",
              "  <thead>\n",
              "    <tr style=\"text-align: right;\">\n",
              "      <th></th>\n",
              "      <th>ФИО</th>\n",
              "      <th>Название команды</th>\n",
              "      <th>Количество участников</th>\n",
              "      <th>Компетенция</th>\n",
              "      <th>Баллы</th>\n",
              "      <th>Вид соревнования</th>\n",
              "      <th>Пол</th>\n",
              "      <th>Роль в мероприятии</th>\n",
              "      <th>Должность</th>\n",
              "      <th>Категория</th>\n",
              "      <th>Начало трудового стажа</th>\n",
              "      <th>Место работы</th>\n",
              "      <th>Профессия</th>\n",
              "      <th>Дата рождения</th>\n",
              "      <th>Начало трудовой деятельности в РОСАТОМ</th>\n",
              "      <th>Образование</th>\n",
              "      <th>Место образования</th>\n",
              "      <th>Год окончания</th>\n",
              "      <th>Специальность</th>\n",
              "    </tr>\n",
              "  </thead>\n",
              "  <tbody>\n",
              "    <tr>\n",
              "      <th>0</th>\n",
              "      <td>ФИО_623</td>\n",
              "      <td>AKKUYU NÜKLEER</td>\n",
              "      <td>2</td>\n",
              "      <td>Сетевое и системное администрирование</td>\n",
              "      <td>22,95</td>\n",
              "      <td>1</td>\n",
              "      <td>0</td>\n",
              "      <td>Участник мероприятия</td>\n",
              "      <td>Начальник участка</td>\n",
              "      <td>NaN</td>\n",
              "      <td>03.2013</td>\n",
              "      <td>AKKUYU NÜKLEER ANONİM ŞİRKETİ</td>\n",
              "      <td>NaN</td>\n",
              "      <td>NaN</td>\n",
              "      <td>NaN</td>\n",
              "      <td>NaN</td>\n",
              "      <td>NaN</td>\n",
              "      <td>NaN</td>\n",
              "      <td>NaN</td>\n",
              "    </tr>\n",
              "    <tr>\n",
              "      <th>1</th>\n",
              "      <td>ФИО_703</td>\n",
              "      <td>AKKUYU NÜKLEER</td>\n",
              "      <td>2</td>\n",
              "      <td>Сетевое и системное администрирование</td>\n",
              "      <td>22,95</td>\n",
              "      <td>1</td>\n",
              "      <td>0</td>\n",
              "      <td>Участник мероприятия</td>\n",
              "      <td>Эксперт по технической поддержке</td>\n",
              "      <td>NaN</td>\n",
              "      <td>07.2007</td>\n",
              "      <td>АО АККУЮ НУКЛЕАР</td>\n",
              "      <td>NaN</td>\n",
              "      <td>NaN</td>\n",
              "      <td>NaN</td>\n",
              "      <td>NaN</td>\n",
              "      <td>NaN</td>\n",
              "      <td>NaN</td>\n",
              "      <td>NaN</td>\n",
              "    </tr>\n",
              "    <tr>\n",
              "      <th>2</th>\n",
              "      <td>ФИО_164</td>\n",
              "      <td>АО \"АЭС\" АО \"Консист-ОС\"</td>\n",
              "      <td>2</td>\n",
              "      <td>Сетевое и системное администрирование</td>\n",
              "      <td>61,26</td>\n",
              "      <td>1</td>\n",
              "      <td>0</td>\n",
              "      <td>Участник мероприятия</td>\n",
              "      <td>главный эксперт</td>\n",
              "      <td>NaN</td>\n",
              "      <td>2005-01-01</td>\n",
              "      <td>АО \"АтомЭнергоСбыт\"</td>\n",
              "      <td>NaN</td>\n",
              "      <td>36</td>\n",
              "      <td>2021-07-18</td>\n",
              "      <td>NaN</td>\n",
              "      <td>NaN</td>\n",
              "      <td>NaN</td>\n",
              "      <td>NaN</td>\n",
              "    </tr>\n",
              "    <tr>\n",
              "      <th>3</th>\n",
              "      <td>ФИО_310</td>\n",
              "      <td>АО \"АЭС\" АО \"Консист-ОС\"</td>\n",
              "      <td>2</td>\n",
              "      <td>Сетевое и системное администрирование</td>\n",
              "      <td>61,26</td>\n",
              "      <td>1</td>\n",
              "      <td>1</td>\n",
              "      <td>Участник мероприятия</td>\n",
              "      <td>инженер-системотехник</td>\n",
              "      <td>NaN</td>\n",
              "      <td>май.07</td>\n",
              "      <td>Филиал АО \"КОНСИСТ-ОС\" \"Кольский\"</td>\n",
              "      <td>NaN</td>\n",
              "      <td>36</td>\n",
              "      <td>NaN</td>\n",
              "      <td>NaN</td>\n",
              "      <td>NaN</td>\n",
              "      <td>NaN</td>\n",
              "      <td>NaN</td>\n",
              "    </tr>\n",
              "    <tr>\n",
              "      <th>4</th>\n",
              "      <td>ФИО_113</td>\n",
              "      <td>АО \"КОНСИСТ-ОС\"</td>\n",
              "      <td>2</td>\n",
              "      <td>Сетевое и системное администрирование</td>\n",
              "      <td>59,78</td>\n",
              "      <td>1</td>\n",
              "      <td>0</td>\n",
              "      <td>Участник мероприятия</td>\n",
              "      <td>Главный эксперт</td>\n",
              "      <td>Специалист (рабочие специальности)</td>\n",
              "      <td>2007-02-01</td>\n",
              "      <td>АО \"Консист-ОС\"</td>\n",
              "      <td>Сетевое и системное администрирование</td>\n",
              "      <td>36</td>\n",
              "      <td>2007-02-01</td>\n",
              "      <td>NaN</td>\n",
              "      <td>NaN</td>\n",
              "      <td>NaN</td>\n",
              "      <td>NaN</td>\n",
              "    </tr>\n",
              "  </tbody>\n",
              "</table>\n",
              "</div>\n",
              "      <button class=\"colab-df-convert\" onclick=\"convertToInteractive('df-b73e1db4-dc48-49a3-9025-5538d8eccd43')\"\n",
              "              title=\"Convert this dataframe to an interactive table.\"\n",
              "              style=\"display:none;\">\n",
              "        \n",
              "  <svg xmlns=\"http://www.w3.org/2000/svg\" height=\"24px\"viewBox=\"0 0 24 24\"\n",
              "       width=\"24px\">\n",
              "    <path d=\"M0 0h24v24H0V0z\" fill=\"none\"/>\n",
              "    <path d=\"M18.56 5.44l.94 2.06.94-2.06 2.06-.94-2.06-.94-.94-2.06-.94 2.06-2.06.94zm-11 1L8.5 8.5l.94-2.06 2.06-.94-2.06-.94L8.5 2.5l-.94 2.06-2.06.94zm10 10l.94 2.06.94-2.06 2.06-.94-2.06-.94-.94-2.06-.94 2.06-2.06.94z\"/><path d=\"M17.41 7.96l-1.37-1.37c-.4-.4-.92-.59-1.43-.59-.52 0-1.04.2-1.43.59L10.3 9.45l-7.72 7.72c-.78.78-.78 2.05 0 2.83L4 21.41c.39.39.9.59 1.41.59.51 0 1.02-.2 1.41-.59l7.78-7.78 2.81-2.81c.8-.78.8-2.07 0-2.86zM5.41 20L4 18.59l7.72-7.72 1.47 1.35L5.41 20z\"/>\n",
              "  </svg>\n",
              "      </button>\n",
              "      \n",
              "  <style>\n",
              "    .colab-df-container {\n",
              "      display:flex;\n",
              "      flex-wrap:wrap;\n",
              "      gap: 12px;\n",
              "    }\n",
              "\n",
              "    .colab-df-convert {\n",
              "      background-color: #E8F0FE;\n",
              "      border: none;\n",
              "      border-radius: 50%;\n",
              "      cursor: pointer;\n",
              "      display: none;\n",
              "      fill: #1967D2;\n",
              "      height: 32px;\n",
              "      padding: 0 0 0 0;\n",
              "      width: 32px;\n",
              "    }\n",
              "\n",
              "    .colab-df-convert:hover {\n",
              "      background-color: #E2EBFA;\n",
              "      box-shadow: 0px 1px 2px rgba(60, 64, 67, 0.3), 0px 1px 3px 1px rgba(60, 64, 67, 0.15);\n",
              "      fill: #174EA6;\n",
              "    }\n",
              "\n",
              "    [theme=dark] .colab-df-convert {\n",
              "      background-color: #3B4455;\n",
              "      fill: #D2E3FC;\n",
              "    }\n",
              "\n",
              "    [theme=dark] .colab-df-convert:hover {\n",
              "      background-color: #434B5C;\n",
              "      box-shadow: 0px 1px 3px 1px rgba(0, 0, 0, 0.15);\n",
              "      filter: drop-shadow(0px 1px 2px rgba(0, 0, 0, 0.3));\n",
              "      fill: #FFFFFF;\n",
              "    }\n",
              "  </style>\n",
              "\n",
              "      <script>\n",
              "        const buttonEl =\n",
              "          document.querySelector('#df-b73e1db4-dc48-49a3-9025-5538d8eccd43 button.colab-df-convert');\n",
              "        buttonEl.style.display =\n",
              "          google.colab.kernel.accessAllowed ? 'block' : 'none';\n",
              "\n",
              "        async function convertToInteractive(key) {\n",
              "          const element = document.querySelector('#df-b73e1db4-dc48-49a3-9025-5538d8eccd43');\n",
              "          const dataTable =\n",
              "            await google.colab.kernel.invokeFunction('convertToInteractive',\n",
              "                                                     [key], {});\n",
              "          if (!dataTable) return;\n",
              "\n",
              "          const docLinkHtml = 'Like what you see? Visit the ' +\n",
              "            '<a target=\"_blank\" href=https://colab.research.google.com/notebooks/data_table.ipynb>data table notebook</a>'\n",
              "            + ' to learn more about interactive tables.';\n",
              "          element.innerHTML = '';\n",
              "          dataTable['output_type'] = 'display_data';\n",
              "          await google.colab.output.renderOutput(dataTable, element);\n",
              "          const docLink = document.createElement('div');\n",
              "          docLink.innerHTML = docLinkHtml;\n",
              "          element.appendChild(docLink);\n",
              "        }\n",
              "      </script>\n",
              "    </div>\n",
              "  </div>\n",
              "  "
            ]
          },
          "metadata": {},
          "execution_count": 134
        }
      ]
    }
  ]
}